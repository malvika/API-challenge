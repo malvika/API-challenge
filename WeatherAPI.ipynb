{
 "cells": [
  {
   "cell_type": "code",
   "execution_count": 29,
   "metadata": {},
   "outputs": [],
   "source": [
    "# Dependencies \n",
    "import openweathermapy.core as owm\n",
    "import matplotlib.pyplot as plt\n",
    "import seaborn as sns\n",
    "import pandas as pd\n",
    "import numpy as np\n",
    "import json\n",
    "import requests\n",
    "from citipy import citipy \n",
    "import random"
   ]
  },
  {
   "cell_type": "code",
   "execution_count": 30,
   "metadata": {},
   "outputs": [],
   "source": [
    "# Import api_key \n",
    "from config import api_key"
   ]
  },
  {
   "cell_type": "code",
   "execution_count": 37,
   "metadata": {},
   "outputs": [
    {
     "data": {
      "text/html": [
       "<div>\n",
       "<style scoped>\n",
       "    .dataframe tbody tr th:only-of-type {\n",
       "        vertical-align: middle;\n",
       "    }\n",
       "\n",
       "    .dataframe tbody tr th {\n",
       "        vertical-align: top;\n",
       "    }\n",
       "\n",
       "    .dataframe thead th {\n",
       "        text-align: right;\n",
       "    }\n",
       "</style>\n",
       "<table border=\"1\" class=\"dataframe\">\n",
       "  <thead>\n",
       "    <tr style=\"text-align: right;\">\n",
       "      <th></th>\n",
       "      <th>City</th>\n",
       "      <th>Latitudes</th>\n",
       "      <th>Longitudes</th>\n",
       "    </tr>\n",
       "  </thead>\n",
       "  <tbody>\n",
       "    <tr>\n",
       "      <th>0</th>\n",
       "      <td>avarua</td>\n",
       "      <td>-52.388845</td>\n",
       "      <td>-165.266788</td>\n",
       "    </tr>\n",
       "    <tr>\n",
       "      <th>1</th>\n",
       "      <td>rio gallegos</td>\n",
       "      <td>-49.780707</td>\n",
       "      <td>-69.489026</td>\n",
       "    </tr>\n",
       "    <tr>\n",
       "      <th>2</th>\n",
       "      <td>rikitea</td>\n",
       "      <td>-47.888430</td>\n",
       "      <td>-109.815660</td>\n",
       "    </tr>\n",
       "    <tr>\n",
       "      <th>3</th>\n",
       "      <td>rikitea</td>\n",
       "      <td>-46.267489</td>\n",
       "      <td>-115.667541</td>\n",
       "    </tr>\n",
       "    <tr>\n",
       "      <th>4</th>\n",
       "      <td>ancud</td>\n",
       "      <td>-42.248223</td>\n",
       "      <td>-78.605599</td>\n",
       "    </tr>\n",
       "  </tbody>\n",
       "</table>\n",
       "</div>"
      ],
      "text/plain": [
       "           City  Latitudes  Longitudes\n",
       "0        avarua -52.388845 -165.266788\n",
       "1  rio gallegos -49.780707  -69.489026\n",
       "2       rikitea -47.888430 -109.815660\n",
       "3       rikitea -46.267489 -115.667541\n",
       "4         ancud -42.248223  -78.605599"
      ]
     },
     "execution_count": 37,
     "metadata": {},
     "output_type": "execute_result"
    }
   ],
   "source": [
    "#Randomly select at least 500 unique (non-repeat) cities based on latitude and longitude:\n",
    "    # Latitude in degrees is -90 and +90 \n",
    "    # Longitude is in the range -180 and +180 \n",
    "\n",
    "#Creating a dataframe to display the values\n",
    "cities_df = pd.DataFrame(columns =\n",
    "                            ['City',\n",
    "                             'Latitudes',\n",
    "                             'Longitudes',\n",
    "                            ])\n",
    "# Holding the variables \n",
    "lat = []\n",
    "lng = []\n",
    "cities = []\n",
    "\n",
    "#Creating loops to go through random lat and lng and assigning cities based on coordinates picked\n",
    "    #2000 was chosen in order to ensure that atleast 500 would be unique (non-repeat) cities\n",
    "for x in range(0,2000):\n",
    "    lat.append(random.uniform(-90,90))\n",
    "    lng.append(random.uniform(-180,180))\n",
    "cities_df['Latitudes']  = lat\n",
    "cities_df['Longitudes'] = lng\n",
    "\n",
    "for index, row in cities_df.iterrows():\n",
    "    city = citipy.nearest_city(row[\"Latitudes\"],row[\"Longitudes\"])\n",
    "    cities.append(city.city_name)\n",
    "cities_df['City'] = cities\n",
    "\n",
    "#Displaying the top five \n",
    "cities_df.head()"
   ]
  },
  {
   "cell_type": "code",
   "execution_count": 38,
   "metadata": {},
   "outputs": [
    {
     "data": {
      "text/plain": [
       "759"
      ]
     },
     "execution_count": 38,
     "metadata": {},
     "output_type": "execute_result"
    }
   ],
   "source": [
    "new_cities_df = cities_df.drop_duplicates(\"City\",keep = \"first\")\n",
    "len(new_cities_df)"
   ]
  },
  {
   "cell_type": "code",
   "execution_count": null,
   "metadata": {},
   "outputs": [],
   "source": []
  }
 ],
 "metadata": {
  "kernelspec": {
   "display_name": "Python 3",
   "language": "python",
   "name": "python3"
  },
  "language_info": {
   "codemirror_mode": {
    "name": "ipython",
    "version": 3
   },
   "file_extension": ".py",
   "mimetype": "text/x-python",
   "name": "python",
   "nbconvert_exporter": "python",
   "pygments_lexer": "ipython3",
   "version": "3.6.4"
  }
 },
 "nbformat": 4,
 "nbformat_minor": 2
}
